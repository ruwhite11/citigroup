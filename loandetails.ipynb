{
 "metadata": {
  "language_info": {
   "codemirror_mode": {
    "name": "ipython",
    "version": 3
   },
   "file_extension": ".py",
   "mimetype": "text/x-python",
   "name": "python",
   "nbconvert_exporter": "python",
   "pygments_lexer": "ipython3",
   "version": "3.8.5-final"
  },
  "orig_nbformat": 2,
  "kernelspec": {
   "name": "python3",
   "display_name": "Python 3",
   "language": "python"
  }
 },
 "nbformat": 4,
 "nbformat_minor": 2,
 "cells": [
  {
   "cell_type": "code",
   "execution_count": 2,
   "metadata": {},
   "outputs": [],
   "source": [
    "import pandas as pd\n",
    "import numpy as np\n",
    "import os"
   ]
  },
  {
   "cell_type": "code",
   "execution_count": 54,
   "metadata": {},
   "outputs": [],
   "source": [
    "files = []\n",
    "for x in os.listdir(\"loandetail\"):\n",
    "    if 'csv' in x:\n",
    "        filename = 'loandetail/' + x\n",
    "        df = pd.read_csv(filename)\n",
    "        if len(df.columns) > 67:\n",
    "            df.drop(['Ending Deferred Balance','Beginning Deferred Balance'],axis=1,inplace=True)\n",
    "        files.append(df)\n",
    "all_dfs = pd.concat(files)"
   ]
  },
  {
   "cell_type": "code",
   "execution_count": 65,
   "metadata": {},
   "outputs": [],
   "source": [
    "all_dfs.columns = all_dfs.columns.str.replace(\"#\",\"\").str.strip().str.replace(\" \",\"_\").str.replace(\"/\",\"_\").str.replace(\"&\",\"\")"
   ]
  },
  {
   "cell_type": "code",
   "execution_count": 72,
   "metadata": {},
   "outputs": [],
   "source": [
    "all_dfs.Distribution_Date = pd.to_datetime(all_dfs.Distribution_Date,format='%Y%m%d')"
   ]
  },
  {
   "cell_type": "code",
   "execution_count": 78,
   "metadata": {},
   "outputs": [],
   "source": [
    "all_dfs.to_csv(\"LoanDetails.csv\",index=False)"
   ]
  },
  {
   "cell_type": "code",
   "execution_count": null,
   "metadata": {},
   "outputs": [],
   "source": []
  }
 ]
}